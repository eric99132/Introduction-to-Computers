{
  "nbformat": 4,
  "nbformat_minor": 0,
  "metadata": {
    "colab": {
      "provenance": [],
      "authorship_tag": "ABX9TyNyOup5PL5yldDt0eq4qV9Z",
      "include_colab_link": true
    },
    "kernelspec": {
      "name": "python3",
      "display_name": "Python 3"
    },
    "language_info": {
      "name": "python"
    }
  },
  "cells": [
    {
      "cell_type": "markdown",
      "metadata": {
        "id": "view-in-github",
        "colab_type": "text"
      },
      "source": [
        "<a href=\"https://colab.research.google.com/github/eric99132/Introduction-to-Computers/blob/main/python_ch6_3_15.ipynb\" target=\"_parent\"><img src=\"https://colab.research.google.com/assets/colab-badge.svg\" alt=\"Open In Colab\"/></a>"
      ]
    },
    {
      "cell_type": "markdown",
      "source": [
        "#串列\n",
        "a=[1,50,33,64,99,'我好棒',87]\n",
        "**第一個的次序是第0項"
      ],
      "metadata": {
        "id": "u_QxAkTehmw6"
      }
    },
    {
      "cell_type": "code",
      "execution_count": 7,
      "metadata": {
        "colab": {
          "base_uri": "https://localhost:8080/"
        },
        "id": "nG3EYe2ahMQt",
        "outputId": "d720dc14-5d11-4ba7-c706-bc2fa6fc392a"
      },
      "outputs": [
        {
          "output_type": "stream",
          "name": "stdout",
          "text": [
            "1 20 33 64 99 我好棒\n",
            "[1, 20, 33, 64, 99, '我好棒', 87]\n",
            "[1, 20]\n",
            "[1, 33, 99, 87]\n",
            "[33, 64, 99, '我好棒', 87]\n",
            "[1, 20, 33, 64, 99, '我好棒', 87]\n",
            "[1, 20, 33, 64, 99, '我好棒']\n",
            "我好棒\n"
          ]
        }
      ],
      "source": [
        "a=[1,20,33,64,99,'我好棒',87]\n",
        "print(a[0],a[1],a[2],a[3],a[4],a[5])\n",
        "print(a[0:7])\n",
        "print(a[:2])\n",
        "print(a[0:7:2])#[start:end:間隔]\n",
        "print(a[2:])\n",
        "print(a[:])\n",
        "print(a[:-1])\n",
        "print(a[-2])"
      ]
    },
    {
      "cell_type": "code",
      "source": [
        "#最大最小總和長度\n",
        "a=[50,30,20,22,19,5]\n",
        "print(max(a))\n",
        "print(min(a))\n",
        "print(sum(a))\n",
        "print(len(a))#長度\n",
        "\n",
        "a.sort()#排序\n",
        "print(a)"
      ],
      "metadata": {
        "colab": {
          "base_uri": "https://localhost:8080/"
        },
        "id": "XNawUOAOlS0j",
        "outputId": "787827ac-6a11-46df-bfce-0cf1dff7995a"
      },
      "execution_count": 12,
      "outputs": [
        {
          "output_type": "stream",
          "name": "stdout",
          "text": [
            "50\n",
            "5\n",
            "146\n",
            "6\n",
            "[5, 19, 20, 22, 30, 50]\n"
          ]
        }
      ]
    },
    {
      "cell_type": "code",
      "source": [
        "a=[50,30,20,22,19,5]\n",
        "#修改串列值\n",
        "a[0]=1\n",
        "print(a[0])"
      ],
      "metadata": {
        "colab": {
          "base_uri": "https://localhost:8080/"
        },
        "id": "CSxYQctKmUep",
        "outputId": "66374388-9f04-4346-a6b7-14e68e230fd4"
      },
      "execution_count": 15,
      "outputs": [
        {
          "output_type": "stream",
          "name": "stdout",
          "text": [
            "1\n"
          ]
        }
      ]
    },
    {
      "cell_type": "code",
      "source": [
        "#串列相加\n",
        "A=['a','b','c','d','e']\n",
        "B=['f','g']\n",
        "A+=B\n",
        "print(A)"
      ],
      "metadata": {
        "colab": {
          "base_uri": "https://localhost:8080/"
        },
        "id": "u1jEHFIonTOq",
        "outputId": "05440b1c-1304-450c-fd19-26928adf2334"
      },
      "execution_count": 18,
      "outputs": [
        {
          "output_type": "stream",
          "name": "stdout",
          "text": [
            "['a', 'b', 'c', 'd', 'e', 'f', 'g']\n"
          ]
        }
      ]
    }
  ]
}