{
  "nbformat": 4,
  "nbformat_minor": 0,
  "metadata": {
    "colab": {
      "name": "0328.ipynb",
      "provenance": [],
      "authorship_tag": "ABX9TyPvLVfeYt11oh63Vc5hxWq+",
      "include_colab_link": true
    },
    "kernelspec": {
      "name": "python3",
      "display_name": "Python 3"
    },
    "language_info": {
      "name": "python"
    }
  },
  "cells": [
    {
      "cell_type": "markdown",
      "metadata": {
        "id": "view-in-github",
        "colab_type": "text"
      },
      "source": [
        "<a href=\"https://colab.research.google.com/github/eric99132/Introduction-to-Computers/blob/main/0328.ipynb\" target=\"_parent\"><img src=\"https://colab.research.google.com/assets/colab-badge.svg\" alt=\"Open In Colab\"/></a>"
      ]
    },
    {
      "cell_type": "code",
      "execution_count": 4,
      "metadata": {
        "colab": {
          "base_uri": "https://localhost:8080/"
        },
        "id": "BJtunvghnwGL",
        "outputId": "c17e9184-6b5f-49e1-a57c-e75c2fe6ada6"
      },
      "outputs": [
        {
          "output_type": "stream",
          "name": "stdout",
          "text": [
            "15\n",
            "9\n",
            "36\n",
            "6.4\n",
            "2\n",
            "6\n",
            "49\n"
          ]
        }
      ],
      "source": [
        "print(12+3)\n",
        "print(12-3)\n",
        "print(12*3)\n",
        "print(32/5)\n",
        "print(32%5)\n",
        "print(32//5)\n",
        "print(7**2)"
      ]
    },
    {
      "cell_type": "code",
      "source": [
        "上=int(input('上底長:'))\n",
        "下=int(input('下底長:'))\n",
        "高=int(input('高:'))\n",
        "面積=(上+下)*高/2\n",
        "print('上底長:',上,'下底長:',下,'高:',高,'面積:',面積);"
      ],
      "metadata": {
        "colab": {
          "base_uri": "https://localhost:8080/"
        },
        "id": "uPFwXqEnodCg",
        "outputId": "e95efe44-6133-47f4-e071-57c0aa0d2289"
      },
      "execution_count": 33,
      "outputs": [
        {
          "output_type": "stream",
          "name": "stdout",
          "text": [
            "上底長:3\n",
            "下底長:4\n",
            "高:3\n",
            "上底長: 3 下底長: 4 高: 3 面積: 10.5\n"
          ]
        }
      ]
    },
    {
      "cell_type": "code",
      "source": [
        "print('上底長:%d,下底長:%d,高:%d,面積:%0.1f'%(上,下,高,面積));"
      ],
      "metadata": {
        "colab": {
          "base_uri": "https://localhost:8080/"
        },
        "id": "YLGlNrsvtLqJ",
        "outputId": "5d487279-ea20-4536-8ce7-96e64a55fcc9"
      },
      "execution_count": 25,
      "outputs": [
        {
          "output_type": "stream",
          "name": "stdout",
          "text": [
            "上底長:3,下底長:4,高:3,面積:10.5\n"
          ]
        }
      ]
    },
    {
      "cell_type": "code",
      "source": [
        "a=1.1\n",
        "b=2.02\n",
        "c=3.003\n",
        "print('a=%0.1f,b=%0.2f,c=%0.3f'%(a,b,c))"
      ],
      "metadata": {
        "colab": {
          "base_uri": "https://localhost:8080/"
        },
        "id": "ylapE28GypUj",
        "outputId": "93080cd3-0b25-42ef-a667-16b1de8d6777"
      },
      "execution_count": 24,
      "outputs": [
        {
          "output_type": "stream",
          "name": "stdout",
          "text": [
            "a=1.1,b=2.02,c=3.003\n"
          ]
        }
      ]
    },
    {
      "cell_type": "code",
      "source": [
        "身高=float(input('輸入身高(cm):'))\n",
        "體重=float(input('輸入體重(kg):'))\n",
        "BMI=(體重/(身高/100)**2)\n",
        "print('身高%d,體重%d,BMI值為%0.2f'%(身高,體重,BMI))"
      ],
      "metadata": {
        "colab": {
          "base_uri": "https://localhost:8080/"
        },
        "id": "PupRvWZl0jOG",
        "outputId": "fc571126-53dd-40c7-c946-b8c40d87bcd8"
      },
      "execution_count": 39,
      "outputs": [
        {
          "output_type": "stream",
          "name": "stdout",
          "text": [
            "輸入身高(cm):180\n",
            "輸入體重(kg):80\n",
            "身高180,體重80,BMI值為24.69\n"
          ]
        }
      ]
    }
  ]
}