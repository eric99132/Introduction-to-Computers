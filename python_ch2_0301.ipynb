{
  "nbformat": 4,
  "nbformat_minor": 0,
  "metadata": {
    "colab": {
      "provenance": [],
      "authorship_tag": "ABX9TyO5MHA+VRd0bWiJ2fdnLwgT",
      "include_colab_link": true
    },
    "kernelspec": {
      "name": "python3",
      "display_name": "Python 3"
    },
    "language_info": {
      "name": "python"
    }
  },
  "cells": [
    {
      "cell_type": "markdown",
      "metadata": {
        "id": "view-in-github",
        "colab_type": "text"
      },
      "source": [
        "<a href=\"https://colab.research.google.com/github/eric99132/Introduction-to-Computers/blob/main/python_ch2_0301.ipynb\" target=\"_parent\"><img src=\"https://colab.research.google.com/assets/colab-badge.svg\" alt=\"Open In Colab\"/></a>"
      ]
    },
    {
      "cell_type": "markdown",
      "source": [
        "## 練習2-3\n",
        "地月距離384400公里，假設火箭速度400公里/每分鐘，請問地球飛到月球要多少分鐘?"
      ],
      "metadata": {
        "id": "QMseJFPYNE0m"
      }
    },
    {
      "cell_type": "code",
      "source": [
        "f=384400\n",
        "spd=400\n",
        "min=f/spd\n",
        "print(min)"
      ],
      "metadata": {
        "colab": {
          "base_uri": "https://localhost:8080/"
        },
        "id": "MRkPLEAwNEE1",
        "outputId": "6b3c1adb-7d9e-417c-a0e5-7d79579a477a"
      },
      "execution_count": null,
      "outputs": [
        {
          "output_type": "stream",
          "name": "stdout",
          "text": [
            "961.0\n"
          ]
        }
      ]
    },
    {
      "cell_type": "code",
      "execution_count": null,
      "metadata": {
        "colab": {
          "base_uri": "https://localhost:8080/"
        },
        "id": "UohxQYMaAJhj",
        "outputId": "5d529555-b0d4-439a-b655-b74618715760"
      },
      "outputs": [
        {
          "output_type": "stream",
          "name": "stdout",
          "text": [
            "hello world\n"
          ]
        }
      ],
      "source": [
        "print('hello world')"
      ]
    },
    {
      "cell_type": "code",
      "source": [
        "#下方敘述的程式\n",
        "print(\"##程式設計假設$n$ 是年$ 本金和\")\n",
        "print(\"**這裡面的字會加粗**\")"
      ],
      "metadata": {
        "colab": {
          "base_uri": "https://localhost:8080/"
        },
        "id": "6MQ85oh4D5y8",
        "outputId": "366849ba-7aa0-450c-90f9-d01bca0a1574"
      },
      "execution_count": null,
      "outputs": [
        {
          "output_type": "stream",
          "name": "stdout",
          "text": [
            "##程式設計假設$n$ 是年$ 本金和\n",
            "**這裡面的字會加粗**\n"
          ]
        }
      ]
    },
    {
      "cell_type": "markdown",
      "source": [
        "##程式設計\n",
        "假設\n",
        "$n$ 是年\n",
        "$ 本金和"
      ],
      "metadata": {
        "id": "c9_Pm7UEFO3j"
      }
    },
    {
      "cell_type": "code",
      "source": [
        "money=50000*(1+0.015)**5\n",
        "print('本金合是')\n",
        "print(money)"
      ],
      "metadata": {
        "colab": {
          "base_uri": "https://localhost:8080/"
        },
        "id": "mzyGi8qZEMnd",
        "outputId": "9248b499-12f5-4df1-e6f5-744fbe79275b"
      },
      "execution_count": null,
      "outputs": [
        {
          "output_type": "stream",
          "name": "stdout",
          "text": [
            "本金合是\n",
            "53864.20019421873\n"
          ]
        }
      ]
    },
    {
      "cell_type": "markdown",
      "source": [
        "## **練習**:本金改成1000000，年利率改成2%，氣算本金和"
      ],
      "metadata": {
        "id": "-DTKP8EgGe1k"
      }
    },
    {
      "cell_type": "code",
      "source": [
        "money=1000000*(1+0.02)**5\n",
        "print('本金和是')\n",
        "print(money)"
      ],
      "metadata": {
        "colab": {
          "base_uri": "https://localhost:8080/"
        },
        "id": "GF6YXqdwGL4-",
        "outputId": "1719cda1-d0c4-4d46-b4ca-3a8d1092fd2b"
      },
      "execution_count": null,
      "outputs": [
        {
          "output_type": "stream",
          "name": "stdout",
          "text": [
            "本金和是\n",
            "1104080.8032\n"
          ]
        }
      ]
    },
    {
      "cell_type": "code",
      "source": [
        "#改成變數\n",
        "本金=10000\n",
        "年利率=0.01\n",
        "期數=10\n",
        "本金和=本金*(1+年利率)**期數\n",
        "print(本金和)"
      ],
      "metadata": {
        "colab": {
          "base_uri": "https://localhost:8080/"
        },
        "id": "nCtVs6HiHY2j",
        "outputId": "7a465cd0-a3ab-447c-c483-f8d6e1ffe832"
      },
      "execution_count": null,
      "outputs": [
        {
          "output_type": "stream",
          "name": "stdout",
          "text": [
            "11046.221254112046\n"
          ]
        }
      ]
    },
    {
      "cell_type": "code",
      "source": [
        "#園面積圓周長\n",
        "PI=3.14159\n",
        "r=5\n",
        "print(\"圓面積:平方公分\")\n",
        "area=PI*r**2\n",
        "print(area)"
      ],
      "metadata": {
        "colab": {
          "base_uri": "https://localhost:8080/"
        },
        "id": "IvKb2knZJqyW",
        "outputId": "6fb78716-44ee-4387-b518-e35e5e19be0c"
      },
      "execution_count": null,
      "outputs": [
        {
          "output_type": "stream",
          "name": "stdout",
          "text": [
            "圓面積:平方公分\n",
            "78.53975\n"
          ]
        }
      ]
    },
    {
      "cell_type": "markdown",
      "source": [
        "##練習\n",
        "體積=園面積*高"
      ],
      "metadata": {
        "id": "JcrFRCvqLW-1"
      }
    },
    {
      "cell_type": "code",
      "source": [
        "h=5;r=10\n",
        "體積=area*h\n",
        "area=PI*r**2\n",
        "print(體積)"
      ],
      "metadata": {
        "colab": {
          "base_uri": "https://localhost:8080/"
        },
        "id": "xJwf5YHmLqMp",
        "outputId": "1726f0e1-790b-4927-a392-0757a52a9bd9"
      },
      "execution_count": null,
      "outputs": [
        {
          "output_type": "stream",
          "name": "stdout",
          "text": [
            "392.69875\n"
          ]
        }
      ]
    }
  ]
}