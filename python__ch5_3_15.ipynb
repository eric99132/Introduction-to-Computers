{
  "nbformat": 4,
  "nbformat_minor": 0,
  "metadata": {
    "colab": {
      "provenance": [],
      "authorship_tag": "ABX9TyOCs/ab4t0iAEb207LIWBGR",
      "include_colab_link": true
    },
    "kernelspec": {
      "name": "python3",
      "display_name": "Python 3"
    },
    "language_info": {
      "name": "python"
    }
  },
  "cells": [
    {
      "cell_type": "markdown",
      "metadata": {
        "id": "view-in-github",
        "colab_type": "text"
      },
      "source": [
        "<a href=\"https://colab.research.google.com/github/eric99132/Introduction-to-Computers/blob/main/python__ch5_3_15.ipynb\" target=\"_parent\"><img src=\"https://colab.research.google.com/assets/colab-badge.svg\" alt=\"Open In Colab\"/></a>"
      ]
    },
    {
      "cell_type": "code",
      "execution_count": 8,
      "metadata": {
        "colab": {
          "base_uri": "https://localhost:8080/"
        },
        "id": "j04c-TNnIRE2",
        "outputId": "42cb900e-d1d2-41c0-aa4a-3d4e0419e90c"
      },
      "outputs": [
        {
          "output_type": "stream",
          "name": "stdout",
          "text": [
            "請輸入成績50\n",
            "不及格\n"
          ]
        }
      ],
      "source": [
        "s = int(input(\"請輸入成績\"))\n",
        "if(s>60):{\n",
        "    print(\"及格\")\n",
        "}\n",
        "else:[\n",
        "    print(\"不及格\")\n",
        "]"
      ]
    },
    {
      "cell_type": "code",
      "source": [
        "s = int(input(\"請輸入成績\"))\n",
        "if(s>60):{\n",
        "    print(\"及格\")\n",
        "}\n",
        "else:\n",
        "  print(\"不及格\");\n",
        "  if(s>40):\n",
        "   print(\"未擋修\")\n",
        "  else:\n",
        "   print(\"死當\")\n"
      ],
      "metadata": {
        "colab": {
          "base_uri": "https://localhost:8080/"
        },
        "id": "LdkCnGdFJ_C1",
        "outputId": "d8dd7b01-941c-4621-8b48-be659ef1cf2a"
      },
      "execution_count": 13,
      "outputs": [
        {
          "output_type": "stream",
          "name": "stdout",
          "text": [
            "請輸入成績9\n",
            "及格\n"
          ]
        }
      ]
    },
    {
      "cell_type": "code",
      "source": [
        "age = int(input(\"請輸入年齡\"))\n",
        "if(age>=65):\n",
        "  print(\"免費\")\n",
        "else:\n",
        "  if(age>=18):\n",
        "    print(\"全票\")\n",
        "  else:\n",
        "    if(age>=6):\n",
        "      print(\"半票\")\n",
        "    else:\n",
        "      print(\"免費\")\n",
        "  "
      ],
      "metadata": {
        "colab": {
          "base_uri": "https://localhost:8080/"
        },
        "id": "0jzHrtoRLbG1",
        "outputId": "38fb8355-7a04-45dd-f36e-a7e3c4c78ced"
      },
      "execution_count": 12,
      "outputs": [
        {
          "output_type": "stream",
          "name": "stdout",
          "text": [
            "請輸入年齡1\n",
            "4\n"
          ]
        }
      ]
    },
    {
      "cell_type": "markdown",
      "source": [
        "## 售票"
      ],
      "metadata": {
        "id": "8F_iJIJPYIwb"
      }
    },
    {
      "cell_type": "code",
      "source": [
        "age = int(input(\"請輸入年齡\"))\n",
        "if(age>=65)or(age<6):\n",
        "  print(\"免費\")\n",
        "elif(age>=18):\n",
        "  print(\"全票\")\n",
        "else:\n",
        "  print(\"半票\")"
      ],
      "metadata": {
        "colab": {
          "base_uri": "https://localhost:8080/"
        },
        "id": "R6K4MNzpPF0X",
        "outputId": "17107a3a-ff74-4036-f27f-b8ff2f50d5c5"
      },
      "execution_count": 18,
      "outputs": [
        {
          "output_type": "stream",
          "name": "stdout",
          "text": [
            "請輸入年齡19\n",
            "全票\n"
          ]
        }
      ]
    },
    {
      "cell_type": "markdown",
      "source": [
        "##2和5的倍數判斷"
      ],
      "metadata": {
        "id": "6lHeJZ3IYRsB"
      }
    },
    {
      "cell_type": "code",
      "source": [
        "a=int(input(\"輸入數字\"))\n",
        "if(a%2==0):\n",
        "  print(\"是2的倍數\")\n",
        "if(a%5==0):\n",
        "  print(\"是5的倍數\")"
      ],
      "metadata": {
        "colab": {
          "base_uri": "https://localhost:8080/"
        },
        "id": "ivX-8vXCT9m0",
        "outputId": "6be95c1d-aaaf-459a-f897-c01f15293e22"
      },
      "execution_count": 20,
      "outputs": [
        {
          "output_type": "stream",
          "name": "stdout",
          "text": [
            "輸入數字10\n",
            "是2的倍數\n",
            "是5的倍數\n"
          ]
        }
      ]
    },
    {
      "cell_type": "markdown",
      "source": [
        "##BMI"
      ],
      "metadata": {
        "id": "-znxGvtKYWl_"
      }
    },
    {
      "cell_type": "code",
      "source": [
        "h=float(input(\"請輸入身高(公分)\"))\n",
        "w=int(input(\"請輸入體重(公斤)\"))\n",
        "h=h/100\n",
        "b = w/h**2\n",
        "print(b)\n",
        "if(b>=28):\n",
        "  print(\"肥胖\")\n",
        "elif(b>=24):\n",
        "  print(\"過重\")\n",
        "elif(b>=18.5):\n",
        "  print(\"正常\")\n",
        "else:\n",
        "  print(\"過輕\")"
      ],
      "metadata": {
        "colab": {
          "base_uri": "https://localhost:8080/"
        },
        "id": "7yIOoGwFUen0",
        "outputId": "e42a209c-9295-47d3-83db-9f229fa313e9"
      },
      "execution_count": 31,
      "outputs": [
        {
          "output_type": "stream",
          "name": "stdout",
          "text": [
            "請輸入身高(公分)173\n",
            "請輸入體重(公斤)60\n",
            "20.04744562130375\n",
            "正常\n"
          ]
        }
      ]
    },
    {
      "cell_type": "code",
      "source": [],
      "metadata": {
        "id": "5Z8OxZ9ihJYA"
      },
      "execution_count": null,
      "outputs": []
    },
    {
      "cell_type": "code",
      "source": [],
      "metadata": {
        "id": "XZxTk4akXlJE"
      },
      "execution_count": null,
      "outputs": []
    }
  ]
}