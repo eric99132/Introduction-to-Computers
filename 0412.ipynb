{
  "nbformat": 4,
  "nbformat_minor": 0,
  "metadata": {
    "colab": {
      "name": "Untitled4.ipynb",
      "provenance": [],
      "authorship_tag": "ABX9TyNHhNPBV/h/uCbuItK9N7nd",
      "include_colab_link": true
    },
    "kernelspec": {
      "name": "python3",
      "display_name": "Python 3"
    },
    "language_info": {
      "name": "python"
    }
  },
  "cells": [
    {
      "cell_type": "markdown",
      "metadata": {
        "id": "view-in-github",
        "colab_type": "text"
      },
      "source": [
        "<a href=\"https://colab.research.google.com/github/eric99132/Introduction-to-Computers/blob/main/0412.ipynb\" target=\"_parent\"><img src=\"https://colab.research.google.com/assets/colab-badge.svg\" alt=\"Open In Colab\"/></a>"
      ]
    },
    {
      "cell_type": "code",
      "execution_count": 6,
      "metadata": {
        "colab": {
          "base_uri": "https://localhost:8080/"
        },
        "id": "N0D3w_o1j355",
        "outputId": "ca653cf7-17dc-4168-aaa5-61accdf935c9"
      },
      "outputs": [
        {
          "output_type": "stream",
          "name": "stdout",
          "text": [
            "0\n",
            "1\n",
            "2\n",
            "3\n",
            "4\n",
            "5\n",
            "6\n",
            "7\n",
            "8\n",
            "9\n"
          ]
        }
      ],
      "source": [
        "i=0\n",
        "while i!=10:\n",
        "  print(i);i=i+1\n",
        "  "
      ]
    },
    {
      "cell_type": "markdown",
      "source": [
        "1~100"
      ],
      "metadata": {
        "id": "8I1b2_4VmECS"
      }
    },
    {
      "cell_type": "code",
      "source": [
        "a=39\n",
        "t=0\n",
        "ans=0\n",
        "while ans!=a:\n",
        "  ans=int(input('猜一個數子'))\n",
        "  if(ans>a):\n",
        "    print('太大')\n",
        "  elif(ans<a):\n",
        "    print('太小')\n",
        "  t=t+1\n",
        "print('恭喜猜對,答案是',a,',總共猜了',t,'次')"
      ],
      "metadata": {
        "colab": {
          "base_uri": "https://localhost:8080/"
        },
        "id": "q-oRTm69lCWs",
        "outputId": "0a759229-cd8f-49b2-e451-0580263732ae"
      },
      "execution_count": 13,
      "outputs": [
        {
          "output_type": "stream",
          "name": "stdout",
          "text": [
            "猜一個數子39\n",
            "恭喜猜對,答案是 39 ,總共猜了 1 次\n"
          ]
        }
      ]
    }
  ]
}