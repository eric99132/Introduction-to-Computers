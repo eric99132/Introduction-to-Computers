{
  "nbformat": 4,
  "nbformat_minor": 0,
  "metadata": {
    "colab": {
      "provenance": [],
      "authorship_tag": "ABX9TyOy8wjm5wjNwAJe5Ct/8+QD",
      "include_colab_link": true
    },
    "kernelspec": {
      "name": "python3",
      "display_name": "Python 3"
    },
    "language_info": {
      "name": "python"
    }
  },
  "cells": [
    {
      "cell_type": "markdown",
      "metadata": {
        "id": "view-in-github",
        "colab_type": "text"
      },
      "source": [
        "<a href=\"https://colab.research.google.com/github/eric99132/Introduction-to-Computers/blob/main/pygame.ipynb\" target=\"_parent\"><img src=\"https://colab.research.google.com/assets/colab-badge.svg\" alt=\"Open In Colab\"/></a>"
      ]
    },
    {
      "cell_type": "code",
      "execution_count": 1,
      "metadata": {
        "colab": {
          "base_uri": "https://localhost:8080/"
        },
        "id": "2VsNNkzedwhw",
        "outputId": "90475725-69c9-4dc7-b4aa-7813a535e977"
      },
      "outputs": [
        {
          "output_type": "stream",
          "name": "stdout",
          "text": [
            "Looking in indexes: https://pypi.org/simple, https://us-python.pkg.dev/colab-wheels/public/simple/\n",
            "Requirement already satisfied: pygame==2.3 in /usr/local/lib/python3.10/dist-packages (2.3.0)\n"
          ]
        }
      ],
      "source": [
        "!pip install pygame==2.3 --user"
      ]
    },
    {
      "cell_type": "code",
      "source": [
        "import pygame"
      ],
      "metadata": {
        "id": "3zpeRePVd_mr"
      },
      "execution_count": 8,
      "outputs": []
    },
    {
      "cell_type": "markdown",
      "source": [
        "#EX1\n"
      ],
      "metadata": {
        "id": "Mb7AuM3Yy6XY"
      }
    },
    {
      "cell_type": "code",
      "source": [
        "# 載入pygame套件\n",
        "import pygame  \n",
        "\n",
        "# 初始化套件\n",
        "pygame.init()  \n",
        "\n",
        "# 遊戲視窗大小設成 600x500\n",
        "scr = pygame.display.set_mode((600,600))  \n",
        "\n",
        "# 設定遊戲視窗標題\n",
        "pygame.display.set_caption('我的小遊戲')\n",
        "\n",
        "x = 200\n",
        "y = 200\n",
        "width = 20\n",
        "height = 20\n",
        "vel = 2\n",
        "\n",
        "# 控制是否結束遊戲旗標\n",
        "done = False  \n",
        "while not done:  \n",
        "    # 設定時間延遲\n",
        "    pygame.time.delay(10) \n",
        "    \n",
        "    # 提取事件\n",
        "    for event in pygame.event.get(): \n",
        "        # 判斷事件是否是 離開遊戲\n",
        "        if event.type == pygame.QUIT:  \n",
        "            done = True  \n",
        "    # 提取按鍵\n",
        "    keys = pygame.key.get_pressed() \n",
        "    if keys[pygame.K_LEFT] and x>0: \n",
        "        x -= vel \n",
        "    if keys[pygame.K_RIGHT] and x<600-width: \n",
        "        x += vel \n",
        "    if keys[pygame.K_UP] and y>0: \n",
        "        y -= vel \n",
        "    if keys[pygame.K_DOWN] and y<600-height: \n",
        "        y += vel \n",
        "    scr.fill((255,255, 255)) \n",
        "    pygame.draw.circle(scr, (0, 0, 255), (x, y),8) \n",
        "    pygame.display.update()  \n",
        "    \n",
        "    # 真正顯示視窗\n",
        "    pygame.display.flip()  \n",
        "\n",
        "pygame.quit()  "
      ],
      "metadata": {
        "id": "IDhIPO-4y57w"
      },
      "execution_count": null,
      "outputs": []
    },
    {
      "cell_type": "code",
      "source": [
        "!python -m pygame.examples.aliens"
      ],
      "metadata": {
        "colab": {
          "base_uri": "https://localhost:8080/"
        },
        "id": "DX1XRhZTf3D6",
        "outputId": "54b58f55-268f-42f5-dfb2-d7558833fa78"
      },
      "execution_count": 5,
      "outputs": [
        {
          "output_type": "stream",
          "name": "stdout",
          "text": [
            "pygame 2.3.0 (SDL 2.24.2, Python 3.10.11)\n",
            "Hello from the pygame community. https://www.pygame.org/contribute.html\n",
            "ALSA lib confmisc.c:767:(parse_card) cannot find card '0'\n",
            "ALSA lib conf.c:4732:(_snd_config_evaluate) function snd_func_card_driver returned error: No such file or directory\n",
            "ALSA lib confmisc.c:392:(snd_func_concat) error evaluating strings\n",
            "ALSA lib conf.c:4732:(_snd_config_evaluate) function snd_func_concat returned error: No such file or directory\n",
            "ALSA lib confmisc.c:1246:(snd_func_refer) error evaluating name\n",
            "ALSA lib conf.c:4732:(_snd_config_evaluate) function snd_func_refer returned error: No such file or directory\n",
            "ALSA lib conf.c:5220:(snd_config_expand) Evaluate error: No such file or directory\n",
            "ALSA lib pcm.c:2642:(snd_pcm_open_noupdate) Unknown PCM default\n",
            "Warning, no sound\n",
            "Traceback (most recent call last):\n",
            "  File \"/usr/lib/python3.10/runpy.py\", line 196, in _run_module_as_main\n",
            "    return _run_code(code, main_globals, None,\n",
            "  File \"/usr/lib/python3.10/runpy.py\", line 86, in _run_code\n",
            "    exec(code, run_globals)\n",
            "  File \"/usr/local/lib/python3.10/dist-packages/pygame/examples/aliens.py\", line 399, in <module>\n",
            "    main()\n",
            "  File \"/usr/local/lib/python3.10/dist-packages/pygame/examples/aliens.py\", line 243, in main\n",
            "    bestdepth = pg.display.mode_ok(SCREENRECT.size, winstyle, 32)\n",
            "pygame.error: video system not initialized\n"
          ]
        }
      ]
    },
    {
      "cell_type": "code",
      "source": [
        "# Example file showing a basic pygame \"game loop\"\n",
        "import pygame\n",
        "\n",
        "# pygame setup\n",
        "pygame.init()\n",
        "screen = pygame.display.set_mode((1280, 720))\n",
        "clock = pygame.time.Clock()\n",
        "running = True\n",
        "\n",
        "while running:\n",
        "    # poll for events\n",
        "    # pygame.QUIT event means the user clicked X to close your window\n",
        "    for event in pygame.event.get():\n",
        "        if event.type == pygame.QUIT:\n",
        "            running = False\n",
        "\n",
        "    # fill the screen with a color to wipe away anything from last frame\n",
        "    screen.fill(\"purple\")\n",
        "\n",
        "    # RENDER YOUR GAME HERE\n",
        "\n",
        "    # flip() the display to put your work on screen\n",
        "    pygame.display.flip()\n",
        "\n",
        "    clock.tick(60)  # limits FPS to 60\n",
        "\n",
        "pygame.quit()"
      ],
      "metadata": {
        "colab": {
          "base_uri": "https://localhost:8080/",
          "height": 237
        },
        "id": "yVPpAfWmePn6",
        "outputId": "2d6eaed4-72ec-431c-af7c-21be6010fc5a"
      },
      "execution_count": 6,
      "outputs": [
        {
          "output_type": "error",
          "ename": "error",
          "evalue": "ignored",
          "traceback": [
            "\u001b[0;31m---------------------------------------------------------------------------\u001b[0m",
            "\u001b[0;31merror\u001b[0m                                     Traceback (most recent call last)",
            "\u001b[0;32m<ipython-input-6-64b3e3018bc7>\u001b[0m in \u001b[0;36m<cell line: 6>\u001b[0;34m()\u001b[0m\n\u001b[1;32m      4\u001b[0m \u001b[0;31m# pygame setup\u001b[0m\u001b[0;34m\u001b[0m\u001b[0;34m\u001b[0m\u001b[0m\n\u001b[1;32m      5\u001b[0m \u001b[0mpygame\u001b[0m\u001b[0;34m.\u001b[0m\u001b[0minit\u001b[0m\u001b[0;34m(\u001b[0m\u001b[0;34m)\u001b[0m\u001b[0;34m\u001b[0m\u001b[0;34m\u001b[0m\u001b[0m\n\u001b[0;32m----> 6\u001b[0;31m \u001b[0mscreen\u001b[0m \u001b[0;34m=\u001b[0m \u001b[0mpygame\u001b[0m\u001b[0;34m.\u001b[0m\u001b[0mdisplay\u001b[0m\u001b[0;34m.\u001b[0m\u001b[0mset_mode\u001b[0m\u001b[0;34m(\u001b[0m\u001b[0;34m(\u001b[0m\u001b[0;36m1280\u001b[0m\u001b[0;34m,\u001b[0m \u001b[0;36m720\u001b[0m\u001b[0;34m)\u001b[0m\u001b[0;34m)\u001b[0m\u001b[0;34m\u001b[0m\u001b[0;34m\u001b[0m\u001b[0m\n\u001b[0m\u001b[1;32m      7\u001b[0m \u001b[0mclock\u001b[0m \u001b[0;34m=\u001b[0m \u001b[0mpygame\u001b[0m\u001b[0;34m.\u001b[0m\u001b[0mtime\u001b[0m\u001b[0;34m.\u001b[0m\u001b[0mClock\u001b[0m\u001b[0;34m(\u001b[0m\u001b[0;34m)\u001b[0m\u001b[0;34m\u001b[0m\u001b[0;34m\u001b[0m\u001b[0m\n\u001b[1;32m      8\u001b[0m \u001b[0mrunning\u001b[0m \u001b[0;34m=\u001b[0m \u001b[0;32mTrue\u001b[0m\u001b[0;34m\u001b[0m\u001b[0;34m\u001b[0m\u001b[0m\n",
            "\u001b[0;31merror\u001b[0m: No available video device"
          ]
        }
      ]
    },
    {
      "cell_type": "code",
      "source": [
        "# 載入pygame套件\n",
        "import pygame  \n",
        "\n",
        "# 初始化套件\n",
        "pygame.init()  \n",
        "\n",
        "# 遊戲視窗大小設成 600x500\n",
        "scr = pygame.display.set_mode((600,500))  \n",
        "\n",
        "# 設定遊戲視窗標題\n",
        "pygame.display.set_caption('我的小遊戲')\n",
        "\n",
        "# 控制是否結束遊戲旗標\n",
        "done = False  \n",
        "while not done:  \n",
        "    # 提取事件\n",
        "    for event in pygame.event.get(): \n",
        "        # 判斷事件是否是 離開遊戲\n",
        "        if event.type == pygame.QUIT:  \n",
        "            done = True  \n",
        "    \n",
        "    # 真正顯示視窗\n",
        "    pygame.display.flip()  \n",
        "            \n",
        "# 真正顯示視窗\n",
        "pygame.quit()  "
      ],
      "metadata": {
        "colab": {
          "base_uri": "https://localhost:8080/",
          "height": 237
        },
        "id": "HHLO90FNgR1K",
        "outputId": "54a213dd-242c-4e06-8075-4486e7d07597"
      },
      "execution_count": 7,
      "outputs": [
        {
          "output_type": "error",
          "ename": "error",
          "evalue": "ignored",
          "traceback": [
            "\u001b[0;31m---------------------------------------------------------------------------\u001b[0m",
            "\u001b[0;31merror\u001b[0m                                     Traceback (most recent call last)",
            "\u001b[0;32m<ipython-input-7-a3bf15977df3>\u001b[0m in \u001b[0;36m<cell line: 8>\u001b[0;34m()\u001b[0m\n\u001b[1;32m      6\u001b[0m \u001b[0;34m\u001b[0m\u001b[0m\n\u001b[1;32m      7\u001b[0m \u001b[0;31m# 遊戲視窗大小設成 600x500\u001b[0m\u001b[0;34m\u001b[0m\u001b[0;34m\u001b[0m\u001b[0m\n\u001b[0;32m----> 8\u001b[0;31m \u001b[0mscr\u001b[0m \u001b[0;34m=\u001b[0m \u001b[0mpygame\u001b[0m\u001b[0;34m.\u001b[0m\u001b[0mdisplay\u001b[0m\u001b[0;34m.\u001b[0m\u001b[0mset_mode\u001b[0m\u001b[0;34m(\u001b[0m\u001b[0;34m(\u001b[0m\u001b[0;36m600\u001b[0m\u001b[0;34m,\u001b[0m\u001b[0;36m500\u001b[0m\u001b[0;34m)\u001b[0m\u001b[0;34m)\u001b[0m\u001b[0;34m\u001b[0m\u001b[0;34m\u001b[0m\u001b[0m\n\u001b[0m\u001b[1;32m      9\u001b[0m \u001b[0;34m\u001b[0m\u001b[0m\n\u001b[1;32m     10\u001b[0m \u001b[0;31m# 設定遊戲視窗標題\u001b[0m\u001b[0;34m\u001b[0m\u001b[0;34m\u001b[0m\u001b[0m\n",
            "\u001b[0;31merror\u001b[0m: No available video device"
          ]
        }
      ]
    }
  ]
}